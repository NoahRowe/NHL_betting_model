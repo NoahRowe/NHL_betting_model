{
 "cells": [
  {
   "cell_type": "code",
   "execution_count": 1,
   "id": "85e67586",
   "metadata": {},
   "outputs": [],
   "source": [
    "import numpy as np\n",
    "import matplotlib.pyplot as plt\n",
    "\n",
    "import matplotlib as mpl\n",
    "mpl.rcParams['font.size'] = 14\n",
    "mpl.rcParams['lines.linewidth'] = 3\n",
    "mpl.rcParams['axes.titlesize'] = 18\n",
    "mpl.rcParams['axes.grid'] = True\n",
    "mpl.rcParams['grid.alpha'] = 0.5\n",
    "mpl.rcParams['figure.figsize'] = 10,6"
   ]
  },
  {
   "cell_type": "code",
   "execution_count": 2,
   "id": "4536c43d",
   "metadata": {},
   "outputs": [],
   "source": [
    "results = np.load(\"model_type_results_1.npy\", allow_pickle=True)\n",
    "results = results[results[:, 0] != 0]"
   ]
  },
  {
   "cell_type": "code",
   "execution_count": 3,
   "id": "33bdd7a4",
   "metadata": {},
   "outputs": [],
   "source": [
    "layers = np.unique(results[:,0]).astype(str)\n",
    "# regularizers = np.unique(results[:,1])\n",
    "regularizers = np.array([\"None\", \"l1\", \"l2\", \"l1_l2\"])\n",
    "results_matrix = results[:,2].reshape((len(layers), len(regularizers))).astype(float)"
   ]
  },
  {
   "cell_type": "code",
   "execution_count": 4,
   "id": "f89d7d32",
   "metadata": {},
   "outputs": [
    {
     "data": {
      "image/png": "[encoded data removed]",
      "text/plain": [
       "<Figure size 720x432 with 2 Axes>"
      ]
     },
     "metadata": {
      "needs_background": "light"
     },
     "output_type": "display_data"
    }
   ],
   "source": [
    "plt.imshow(results_matrix)\n",
    "plt.colorbar()\n",
    "\n",
    "plt.yticks(np.arange(len(layers))[::-1], layers)\n",
    "plt.xticks(np.arange(len(regularizers)), regularizers)\n",
    "\n",
    "plt.gca().invert_yaxis()\n",
    "\n",
    "plt.show()"
   ]
  },
  {
   "cell_type": "code",
   "execution_count": 5,
   "id": "de863bdb",
   "metadata": {},
   "outputs": [
    {
     "data": {
      "text/plain": [
       "array([['[]', 'None', 0.5980637101811368],\n",
       "       ['[]', '<keras.regularizers.L1 object at 0x7f6323fa66d0>',\n",
       "        0.5974391005621487],\n",
       "       ['[]', '<keras.regularizers.L2 object at 0x7f621d5c85b0>',\n",
       "        0.5983760149906309],\n",
       "       ['[]', '<keras.regularizers.L1L2 object at 0x7f621d5c8430>',\n",
       "        0.5983760149906309],\n",
       "       ['[5]', 'None', 0.5840099937539038],\n",
       "       ['[5]', '<keras.regularizers.L1 object at 0x7f6323fa66d0>',\n",
       "        0.589943785134291],\n",
       "       ['[5]', '<keras.regularizers.L2 object at 0x7f621d5c85b0>',\n",
       "        0.5961898813241724],\n",
       "       ['[5]', '<keras.regularizers.L1L2 object at 0x7f621d5c8430>',\n",
       "        0.5890068707058088],\n",
       "       ['[10]', 'None', 0.5933791380387258],\n",
       "       ['[10]', '<keras.regularizers.L1 object at 0x7f6323fa66d0>',\n",
       "        0.5902560899437851],\n",
       "       ['[10]', '<keras.regularizers.L2 object at 0x7f621d5c85b0>',\n",
       "        0.5886945658963149],\n",
       "       ['[10]', '<keras.regularizers.L1L2 object at 0x7f621d5c8430>',\n",
       "        0.5893191755153029],\n",
       "       ['[20]', 'None', 0.5808869456589631],\n",
       "       ['[20]', '<keras.regularizers.L1 object at 0x7f6323fa66d0>',\n",
       "        0.5890068707058088],\n",
       "       ['[20]', '<keras.regularizers.L2 object at 0x7f621d5c85b0>',\n",
       "        0.5858838226108682],\n",
       "       ['[20]', '<keras.regularizers.L1L2 object at 0x7f621d5c8430>',\n",
       "        0.5886945658963149],\n",
       "       ['[10, 5]', 'None', 0.5915053091817614],\n",
       "       ['[10, 5]', '<keras.regularizers.L1 object at 0x7f6323fa66d0>',\n",
       "        0.584946908182386],\n",
       "       ['[10, 5]', '<keras.regularizers.L2 object at 0x7f621d5c85b0>',\n",
       "        0.5902560899437851],\n",
       "       ['[10, 5]', '<keras.regularizers.L1L2 object at 0x7f621d5c8430>',\n",
       "        0.5334166146158651],\n",
       "       ['[20, 5]', 'None', 0.589631480324797],\n",
       "       ['[20, 5]', '<keras.regularizers.L1 object at 0x7f6323fa66d0>',\n",
       "        0.5334166146158651],\n",
       "       ['[20, 5]', '<keras.regularizers.L2 object at 0x7f621d5c85b0>',\n",
       "        0.5911930043722673],\n",
       "       ['[20, 5]', '<keras.regularizers.L1L2 object at 0x7f621d5c8430>',\n",
       "        0.5334166146158651]], dtype=object)"
      ]
     },
     "execution_count": 5,
     "metadata": {},
     "output_type": "execute_result"
    }
   ],
   "source": [
    "results"
   ]
  },
  {
   "cell_type": "code",
   "execution_count": null,
   "id": "8e42e6ef",
   "metadata": {},
   "outputs": [],
   "source": []
  }
 ],
 "metadata": {
  "kernelspec": {
   "display_name": "Python 3",
   "language": "python",
   "name": "python3"
  },
  "language_info": {
   "codemirror_mode": {
    "name": "ipython",
    "version": 3
   },
   "file_extension": ".py",
   "mimetype": "text/x-python",
   "name": "python",
   "nbconvert_exporter": "python",
   "pygments_lexer": "ipython3",
   "version": "3.8.8"
  }
 },
 "nbformat": 4,
 "nbformat_minor": 5
}
