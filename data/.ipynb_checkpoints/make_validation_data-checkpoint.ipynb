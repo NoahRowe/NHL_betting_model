{
 "cells": [
  {
   "cell_type": "markdown",
   "id": "98af1966",
   "metadata": {},
   "source": [
    "Notebook used to split the main dataset into training, testing, and validation sets. Makes sure that data is randomized consistenly when training different models. \n",
    "\n",
    "Also adds the relevent odds information to the y-vector, as it is required in the model loss function. "
   ]
  },
  {
   "cell_type": "code",
   "execution_count": 1,
   "id": "86ea69ad",
   "metadata": {},
   "outputs": [],
   "source": [
    "import numpy as np\n",
    "import pandas as pd\n",
    "\n",
    "from sklearn.preprocessing import StandardScaler"
   ]
  },
  {
   "cell_type": "code",
   "execution_count": 2,
   "id": "64b1b22e",
   "metadata": {},
   "outputs": [],
   "source": [
    "# Load in the data\n",
    "data_path = \"main_data/feature_data/\"\n",
    "lookback_games = 13\n",
    "\n",
    "X = np.load(data_path + f\"double_mean_lg{lookback_games}_X.npy\")\n",
    "Y = np.load(data_path + f\"double_mean_lg{lookback_games}_Y.npy\")\n",
    "ids = np.load(data_path + f\"double_mean_lg{lookback_games}_ids.npy\")\n",
    "\n",
    "data_master = pd.read_pickle(\"main_data/master_data.df\")\n",
    "\n",
    "# Add odds to the Y array\n",
    "home_games = data_master[data_master.home_or_away == \"HOME\"]\n",
    "away_games = data_master[data_master.home_or_away == \"AWAY\"]\n",
    "home_odds = [home_games[home_games.gameId == game_id].iloc[0]['odds'] for game_id in ids]\n",
    "away_odds = [away_games[away_games.gameId == game_id].iloc[0]['odds'] for game_id in ids]\n",
    "Y = np.array([[y, home_odd, away_odd] for y, home_odd, away_odd in zip(Y, home_odds, away_odds)])\n",
    "\n",
    "# Remove rows that have missing odds\n",
    "missing_odds_mask = np.isnan(Y).any(axis=1) == False\n",
    "X = X[missing_odds_mask]\n",
    "Y = Y[missing_odds_mask]"
   ]
  },
  {
   "cell_type": "code",
   "execution_count": 3,
   "id": "4c560fc6",
   "metadata": {},
   "outputs": [],
   "source": [
    "# Shuffle the x and y\n",
    "shuffled_ids = np.arange(len(X))\n",
    "np.random.seed(100)\n",
    "np.random.shuffle(shuffled_ids)\n",
    "X, Y = X[shuffled_ids], Y[shuffled_ids]"
   ]
  },
  {
   "cell_type": "code",
   "execution_count": 4,
   "id": "504e0785",
   "metadata": {},
   "outputs": [],
   "source": [
    "# MODEL STUFF\n",
    "train_size = int(X.shape[0] * 0.7)\n",
    "test_size = int(X.shape[0] * 0.15)\n",
    "val_size = int(X.shape[0] * 0.15)\n",
    "train_test_size = train_size + test_size\n",
    "\n",
    "X_train, X_test, X_val = X[:train_size], X[train_size:train_test_size], X[train_test_size:]\n",
    "Y_train, Y_test, Y_val = Y[:train_size], Y[train_size:train_test_size], Y[train_test_size:]\n",
    "\n",
    "# Scale the X data\n",
    "scaler = StandardScaler()\n",
    "X_train = scaler.fit_transform(X_train)\n",
    "X_test = scaler.transform(X_test)\n",
    "X_val = scaler.transform(X_val)\n",
    "\n",
    "# Cut each array to be a multiple of batch_size\n",
    "batch_size = 16\n",
    "train_size = X_train.shape[0] - X_train.shape[0] % batch_size\n",
    "test_size = X_test.shape[0] - X_test.shape[0] % batch_size\n",
    "val_size = X_val.shape[0] - X_val.shape[0] % batch_size\n",
    "\n",
    "X_train, Y_train = X_train[:train_size], Y_train[:train_size]\n",
    "X_test, Y_test = X_test[:test_size], Y_test[:test_size]\n",
    "X_val, Y_val = X_val[:val_size], Y_val[:val_size]"
   ]
  },
  {
   "cell_type": "code",
   "execution_count": 5,
   "id": "77257ddd",
   "metadata": {},
   "outputs": [],
   "source": [
    "# Save the arrays (for training other models)\n",
    "save_path = \"data/validation_data/\"\n",
    "np.save(save_path + \"X_train.npy\", X_train)\n",
    "np.save(save_path + \"Y_train.npy\", Y_train)\n",
    "np.save(save_path + \"X_test.npy\", X_test)\n",
    "np.save(save_path + \"Y_test.npy\", Y_test)\n",
    "np.save(save_path + \"X_val.npy\", X_val)\n",
    "np.save(save_path + \"Y_val.npy\", Y_val)"
   ]
  },
  {
   "cell_type": "code",
   "execution_count": null,
   "id": "60c1e642",
   "metadata": {},
   "outputs": [],
   "source": []
  }
 ],
 "metadata": {
  "kernelspec": {
   "display_name": "Python 3",
   "language": "python",
   "name": "python3"
  },
  "language_info": {
   "codemirror_mode": {
    "name": "ipython",
    "version": 3
   },
   "file_extension": ".py",
   "mimetype": "text/x-python",
   "name": "python",
   "nbconvert_exporter": "python",
   "pygments_lexer": "ipython3",
   "version": "3.8.8"
  }
 },
 "nbformat": 4,
 "nbformat_minor": 5
}
